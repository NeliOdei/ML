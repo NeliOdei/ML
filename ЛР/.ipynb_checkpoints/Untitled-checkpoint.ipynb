{
 "cells": [
  {
   "cell_type": "code",
   "execution_count": 1,
   "id": "1f6372c6",
   "metadata": {},
   "outputs": [
    {
     "ename": "ImportError",
     "evalue": "cannot import name 'Regressor' from 'gmdhpy.gmdh' (C:\\Users\\rocki\\anaconda3\\lib\\site-packages\\gmdhpy\\gmdh.py)",
     "output_type": "error",
     "traceback": [
      "\u001b[1;31m---------------------------------------------------------------------------\u001b[0m",
      "\u001b[1;31mImportError\u001b[0m                               Traceback (most recent call last)",
      "\u001b[1;32m~\\AppData\\Local\\Temp\\ipykernel_43688\\1513756892.py\u001b[0m in \u001b[0;36m<module>\u001b[1;34m\u001b[0m\n\u001b[1;32m----> 1\u001b[1;33m \u001b[1;32mfrom\u001b[0m \u001b[0mgmdhpy\u001b[0m\u001b[1;33m.\u001b[0m\u001b[0mgmdh\u001b[0m \u001b[1;32mimport\u001b[0m \u001b[0mRegressor\u001b[0m\u001b[1;33m\u001b[0m\u001b[1;33m\u001b[0m\u001b[0m\n\u001b[0m",
      "\u001b[1;31mImportError\u001b[0m: cannot import name 'Regressor' from 'gmdhpy.gmdh' (C:\\Users\\rocki\\anaconda3\\lib\\site-packages\\gmdhpy\\gmdh.py)"
     ]
    }
   ],
   "source": [
    "from gmdhpy.gmdh import Regressor"
   ]
  },
  {
   "cell_type": "code",
   "execution_count": null,
   "id": "6eb66885",
   "metadata": {},
   "outputs": [],
   "source": []
  }
 ],
 "metadata": {
  "kernelspec": {
   "display_name": "Python 3 (ipykernel)",
   "language": "python",
   "name": "python3"
  },
  "language_info": {
   "codemirror_mode": {
    "name": "ipython",
    "version": 3
   },
   "file_extension": ".py",
   "mimetype": "text/x-python",
   "name": "python",
   "nbconvert_exporter": "python",
   "pygments_lexer": "ipython3",
   "version": "3.9.13"
  }
 },
 "nbformat": 4,
 "nbformat_minor": 5
}
